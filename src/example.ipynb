{
 "cells": [
  {
   "cell_type": "code",
   "execution_count": 9,
   "metadata": {},
   "outputs": [
    {
     "data": {
      "text/plain": [
       "'\\n! pip install pandas\\n! pip install numpy\\n! pip install matplotlib\\n! pip install plotly\\n! pip install seaborn\\n\\n! pip install statsmodels\\n! pip install sklearn\\n'"
      ]
     },
     "execution_count": 9,
     "metadata": {},
     "output_type": "execute_result"
    }
   ],
   "source": [
    "'''\n",
    "! pip install pandas\n",
    "! pip install numpy\n",
    "! pip install matplotlib\n",
    "! pip install plotly\n",
    "! pip install seaborn\n",
    "\n",
    "! pip install statsmodels\n",
    "! pip install sklearn\n",
    "'''"
   ]
  },
  {
   "cell_type": "code",
   "execution_count": 10,
   "metadata": {},
   "outputs": [],
   "source": [
    "# Step 0. Load libraries and modules\n",
    "import pandas as pd\n",
    "import numpy as np\n",
    "import matplotlib.pyplot as plt\n",
    "import plotly.express as px\n",
    "import statsmodels.formula.api as smf\n",
    "import seaborn as sns\n",
    "\n",
    "from sklearn.linear_model import LinearRegression\n",
    "from sklearn.preprocessing import MinMaxScaler\n",
    "from sklearn.model_selection import train_test_split\n",
    "from sklearn.metrics import mean_squared_error, r2_score"
   ]
  },
  {
   "cell_type": "code",
   "execution_count": 11,
   "metadata": {},
   "outputs": [],
   "source": [
    "df = pd.read_csv('https://raw.githubusercontent.com/4GeeksAcademy/logistic-regression-project-tutorial/main/bank-marketing-campaign-data.csv', delimiter=';')"
   ]
  },
  {
   "cell_type": "code",
   "execution_count": 12,
   "metadata": {},
   "outputs": [
    {
     "name": "stdout",
     "output_type": "stream",
     "text": [
      "<class 'pandas.core.frame.DataFrame'>\n",
      "RangeIndex: 41188 entries, 0 to 41187\n",
      "Data columns (total 21 columns):\n",
      " #   Column          Non-Null Count  Dtype  \n",
      "---  ------          --------------  -----  \n",
      " 0   age             41188 non-null  int64  \n",
      " 1   job             41188 non-null  object \n",
      " 2   marital         41188 non-null  object \n",
      " 3   education       41188 non-null  object \n",
      " 4   default         41188 non-null  object \n",
      " 5   housing         41188 non-null  object \n",
      " 6   loan            41188 non-null  object \n",
      " 7   contact         41188 non-null  object \n",
      " 8   month           41188 non-null  object \n",
      " 9   day_of_week     41188 non-null  object \n",
      " 10  duration        41188 non-null  int64  \n",
      " 11  campaign        41188 non-null  int64  \n",
      " 12  pdays           41188 non-null  int64  \n",
      " 13  previous        41188 non-null  int64  \n",
      " 14  poutcome        41188 non-null  object \n",
      " 15  emp.var.rate    41188 non-null  float64\n",
      " 16  cons.price.idx  41188 non-null  float64\n",
      " 17  cons.conf.idx   41188 non-null  float64\n",
      " 18  euribor3m       41188 non-null  float64\n",
      " 19  nr.employed     41188 non-null  float64\n",
      " 20  y               41188 non-null  object \n",
      "dtypes: float64(5), int64(5), object(11)\n",
      "memory usage: 6.6+ MB\n"
     ]
    }
   ],
   "source": [
    "# 1.1 Get basic info\n",
    "df.info()"
   ]
  },
  {
   "cell_type": "code",
   "execution_count": 13,
   "metadata": {},
   "outputs": [
    {
     "data": {
      "text/html": [
       "<div>\n",
       "<style scoped>\n",
       "    .dataframe tbody tr th:only-of-type {\n",
       "        vertical-align: middle;\n",
       "    }\n",
       "\n",
       "    .dataframe tbody tr th {\n",
       "        vertical-align: top;\n",
       "    }\n",
       "\n",
       "    .dataframe thead th {\n",
       "        text-align: right;\n",
       "    }\n",
       "</style>\n",
       "<table border=\"1\" class=\"dataframe\">\n",
       "  <thead>\n",
       "    <tr style=\"text-align: right;\">\n",
       "      <th></th>\n",
       "      <th>age</th>\n",
       "      <th>job</th>\n",
       "      <th>marital</th>\n",
       "      <th>education</th>\n",
       "      <th>default</th>\n",
       "      <th>housing</th>\n",
       "      <th>loan</th>\n",
       "      <th>contact</th>\n",
       "      <th>month</th>\n",
       "      <th>day_of_week</th>\n",
       "      <th>...</th>\n",
       "      <th>campaign</th>\n",
       "      <th>pdays</th>\n",
       "      <th>previous</th>\n",
       "      <th>poutcome</th>\n",
       "      <th>emp.var.rate</th>\n",
       "      <th>cons.price.idx</th>\n",
       "      <th>cons.conf.idx</th>\n",
       "      <th>euribor3m</th>\n",
       "      <th>nr.employed</th>\n",
       "      <th>y</th>\n",
       "    </tr>\n",
       "  </thead>\n",
       "  <tbody>\n",
       "    <tr>\n",
       "      <th>0</th>\n",
       "      <td>56</td>\n",
       "      <td>housemaid</td>\n",
       "      <td>married</td>\n",
       "      <td>basic.4y</td>\n",
       "      <td>no</td>\n",
       "      <td>no</td>\n",
       "      <td>no</td>\n",
       "      <td>telephone</td>\n",
       "      <td>may</td>\n",
       "      <td>mon</td>\n",
       "      <td>...</td>\n",
       "      <td>1</td>\n",
       "      <td>999</td>\n",
       "      <td>0</td>\n",
       "      <td>nonexistent</td>\n",
       "      <td>1.1</td>\n",
       "      <td>93.994</td>\n",
       "      <td>-36.4</td>\n",
       "      <td>4.857</td>\n",
       "      <td>5191.0</td>\n",
       "      <td>no</td>\n",
       "    </tr>\n",
       "    <tr>\n",
       "      <th>1</th>\n",
       "      <td>57</td>\n",
       "      <td>services</td>\n",
       "      <td>married</td>\n",
       "      <td>high.school</td>\n",
       "      <td>unknown</td>\n",
       "      <td>no</td>\n",
       "      <td>no</td>\n",
       "      <td>telephone</td>\n",
       "      <td>may</td>\n",
       "      <td>mon</td>\n",
       "      <td>...</td>\n",
       "      <td>1</td>\n",
       "      <td>999</td>\n",
       "      <td>0</td>\n",
       "      <td>nonexistent</td>\n",
       "      <td>1.1</td>\n",
       "      <td>93.994</td>\n",
       "      <td>-36.4</td>\n",
       "      <td>4.857</td>\n",
       "      <td>5191.0</td>\n",
       "      <td>no</td>\n",
       "    </tr>\n",
       "    <tr>\n",
       "      <th>2</th>\n",
       "      <td>37</td>\n",
       "      <td>services</td>\n",
       "      <td>married</td>\n",
       "      <td>high.school</td>\n",
       "      <td>no</td>\n",
       "      <td>yes</td>\n",
       "      <td>no</td>\n",
       "      <td>telephone</td>\n",
       "      <td>may</td>\n",
       "      <td>mon</td>\n",
       "      <td>...</td>\n",
       "      <td>1</td>\n",
       "      <td>999</td>\n",
       "      <td>0</td>\n",
       "      <td>nonexistent</td>\n",
       "      <td>1.1</td>\n",
       "      <td>93.994</td>\n",
       "      <td>-36.4</td>\n",
       "      <td>4.857</td>\n",
       "      <td>5191.0</td>\n",
       "      <td>no</td>\n",
       "    </tr>\n",
       "    <tr>\n",
       "      <th>3</th>\n",
       "      <td>40</td>\n",
       "      <td>admin.</td>\n",
       "      <td>married</td>\n",
       "      <td>basic.6y</td>\n",
       "      <td>no</td>\n",
       "      <td>no</td>\n",
       "      <td>no</td>\n",
       "      <td>telephone</td>\n",
       "      <td>may</td>\n",
       "      <td>mon</td>\n",
       "      <td>...</td>\n",
       "      <td>1</td>\n",
       "      <td>999</td>\n",
       "      <td>0</td>\n",
       "      <td>nonexistent</td>\n",
       "      <td>1.1</td>\n",
       "      <td>93.994</td>\n",
       "      <td>-36.4</td>\n",
       "      <td>4.857</td>\n",
       "      <td>5191.0</td>\n",
       "      <td>no</td>\n",
       "    </tr>\n",
       "    <tr>\n",
       "      <th>4</th>\n",
       "      <td>56</td>\n",
       "      <td>services</td>\n",
       "      <td>married</td>\n",
       "      <td>high.school</td>\n",
       "      <td>no</td>\n",
       "      <td>no</td>\n",
       "      <td>yes</td>\n",
       "      <td>telephone</td>\n",
       "      <td>may</td>\n",
       "      <td>mon</td>\n",
       "      <td>...</td>\n",
       "      <td>1</td>\n",
       "      <td>999</td>\n",
       "      <td>0</td>\n",
       "      <td>nonexistent</td>\n",
       "      <td>1.1</td>\n",
       "      <td>93.994</td>\n",
       "      <td>-36.4</td>\n",
       "      <td>4.857</td>\n",
       "      <td>5191.0</td>\n",
       "      <td>no</td>\n",
       "    </tr>\n",
       "    <tr>\n",
       "      <th>5</th>\n",
       "      <td>45</td>\n",
       "      <td>services</td>\n",
       "      <td>married</td>\n",
       "      <td>basic.9y</td>\n",
       "      <td>unknown</td>\n",
       "      <td>no</td>\n",
       "      <td>no</td>\n",
       "      <td>telephone</td>\n",
       "      <td>may</td>\n",
       "      <td>mon</td>\n",
       "      <td>...</td>\n",
       "      <td>1</td>\n",
       "      <td>999</td>\n",
       "      <td>0</td>\n",
       "      <td>nonexistent</td>\n",
       "      <td>1.1</td>\n",
       "      <td>93.994</td>\n",
       "      <td>-36.4</td>\n",
       "      <td>4.857</td>\n",
       "      <td>5191.0</td>\n",
       "      <td>no</td>\n",
       "    </tr>\n",
       "    <tr>\n",
       "      <th>6</th>\n",
       "      <td>59</td>\n",
       "      <td>admin.</td>\n",
       "      <td>married</td>\n",
       "      <td>professional.course</td>\n",
       "      <td>no</td>\n",
       "      <td>no</td>\n",
       "      <td>no</td>\n",
       "      <td>telephone</td>\n",
       "      <td>may</td>\n",
       "      <td>mon</td>\n",
       "      <td>...</td>\n",
       "      <td>1</td>\n",
       "      <td>999</td>\n",
       "      <td>0</td>\n",
       "      <td>nonexistent</td>\n",
       "      <td>1.1</td>\n",
       "      <td>93.994</td>\n",
       "      <td>-36.4</td>\n",
       "      <td>4.857</td>\n",
       "      <td>5191.0</td>\n",
       "      <td>no</td>\n",
       "    </tr>\n",
       "  </tbody>\n",
       "</table>\n",
       "<p>7 rows × 21 columns</p>\n",
       "</div>"
      ],
      "text/plain": [
       "   age        job  marital            education  default housing loan  \\\n",
       "0   56  housemaid  married             basic.4y       no      no   no   \n",
       "1   57   services  married          high.school  unknown      no   no   \n",
       "2   37   services  married          high.school       no     yes   no   \n",
       "3   40     admin.  married             basic.6y       no      no   no   \n",
       "4   56   services  married          high.school       no      no  yes   \n",
       "5   45   services  married             basic.9y  unknown      no   no   \n",
       "6   59     admin.  married  professional.course       no      no   no   \n",
       "\n",
       "     contact month day_of_week  ...  campaign  pdays  previous     poutcome  \\\n",
       "0  telephone   may         mon  ...         1    999         0  nonexistent   \n",
       "1  telephone   may         mon  ...         1    999         0  nonexistent   \n",
       "2  telephone   may         mon  ...         1    999         0  nonexistent   \n",
       "3  telephone   may         mon  ...         1    999         0  nonexistent   \n",
       "4  telephone   may         mon  ...         1    999         0  nonexistent   \n",
       "5  telephone   may         mon  ...         1    999         0  nonexistent   \n",
       "6  telephone   may         mon  ...         1    999         0  nonexistent   \n",
       "\n",
       "  emp.var.rate  cons.price.idx  cons.conf.idx  euribor3m  nr.employed   y  \n",
       "0          1.1          93.994          -36.4      4.857       5191.0  no  \n",
       "1          1.1          93.994          -36.4      4.857       5191.0  no  \n",
       "2          1.1          93.994          -36.4      4.857       5191.0  no  \n",
       "3          1.1          93.994          -36.4      4.857       5191.0  no  \n",
       "4          1.1          93.994          -36.4      4.857       5191.0  no  \n",
       "5          1.1          93.994          -36.4      4.857       5191.0  no  \n",
       "6          1.1          93.994          -36.4      4.857       5191.0  no  \n",
       "\n",
       "[7 rows x 21 columns]"
      ]
     },
     "execution_count": 13,
     "metadata": {},
     "output_type": "execute_result"
    }
   ],
   "source": [
    "# 1.2 Take a sample\n",
    "df.head(7)"
   ]
  },
  {
   "cell_type": "code",
   "execution_count": 14,
   "metadata": {},
   "outputs": [
    {
     "data": {
      "text/html": [
       "<div>\n",
       "<style scoped>\n",
       "    .dataframe tbody tr th:only-of-type {\n",
       "        vertical-align: middle;\n",
       "    }\n",
       "\n",
       "    .dataframe tbody tr th {\n",
       "        vertical-align: top;\n",
       "    }\n",
       "\n",
       "    .dataframe thead th {\n",
       "        text-align: right;\n",
       "    }\n",
       "</style>\n",
       "<table border=\"1\" class=\"dataframe\">\n",
       "  <thead>\n",
       "    <tr style=\"text-align: right;\">\n",
       "      <th></th>\n",
       "      <th>age</th>\n",
       "      <th>duration</th>\n",
       "      <th>campaign</th>\n",
       "      <th>pdays</th>\n",
       "      <th>previous</th>\n",
       "      <th>emp.var.rate</th>\n",
       "      <th>cons.price.idx</th>\n",
       "      <th>cons.conf.idx</th>\n",
       "      <th>euribor3m</th>\n",
       "      <th>nr.employed</th>\n",
       "    </tr>\n",
       "  </thead>\n",
       "  <tbody>\n",
       "    <tr>\n",
       "      <th>count</th>\n",
       "      <td>41188.00000</td>\n",
       "      <td>41188.000000</td>\n",
       "      <td>41188.000000</td>\n",
       "      <td>41188.000000</td>\n",
       "      <td>41188.000000</td>\n",
       "      <td>41188.000000</td>\n",
       "      <td>41188.000000</td>\n",
       "      <td>41188.000000</td>\n",
       "      <td>41188.000000</td>\n",
       "      <td>41188.000000</td>\n",
       "    </tr>\n",
       "    <tr>\n",
       "      <th>mean</th>\n",
       "      <td>40.02406</td>\n",
       "      <td>258.285010</td>\n",
       "      <td>2.567593</td>\n",
       "      <td>962.475454</td>\n",
       "      <td>0.172963</td>\n",
       "      <td>0.081886</td>\n",
       "      <td>93.575664</td>\n",
       "      <td>-40.502600</td>\n",
       "      <td>3.621291</td>\n",
       "      <td>5167.035911</td>\n",
       "    </tr>\n",
       "    <tr>\n",
       "      <th>std</th>\n",
       "      <td>10.42125</td>\n",
       "      <td>259.279249</td>\n",
       "      <td>2.770014</td>\n",
       "      <td>186.910907</td>\n",
       "      <td>0.494901</td>\n",
       "      <td>1.570960</td>\n",
       "      <td>0.578840</td>\n",
       "      <td>4.628198</td>\n",
       "      <td>1.734447</td>\n",
       "      <td>72.251528</td>\n",
       "    </tr>\n",
       "    <tr>\n",
       "      <th>min</th>\n",
       "      <td>17.00000</td>\n",
       "      <td>0.000000</td>\n",
       "      <td>1.000000</td>\n",
       "      <td>0.000000</td>\n",
       "      <td>0.000000</td>\n",
       "      <td>-3.400000</td>\n",
       "      <td>92.201000</td>\n",
       "      <td>-50.800000</td>\n",
       "      <td>0.634000</td>\n",
       "      <td>4963.600000</td>\n",
       "    </tr>\n",
       "    <tr>\n",
       "      <th>25%</th>\n",
       "      <td>32.00000</td>\n",
       "      <td>102.000000</td>\n",
       "      <td>1.000000</td>\n",
       "      <td>999.000000</td>\n",
       "      <td>0.000000</td>\n",
       "      <td>-1.800000</td>\n",
       "      <td>93.075000</td>\n",
       "      <td>-42.700000</td>\n",
       "      <td>1.344000</td>\n",
       "      <td>5099.100000</td>\n",
       "    </tr>\n",
       "    <tr>\n",
       "      <th>50%</th>\n",
       "      <td>38.00000</td>\n",
       "      <td>180.000000</td>\n",
       "      <td>2.000000</td>\n",
       "      <td>999.000000</td>\n",
       "      <td>0.000000</td>\n",
       "      <td>1.100000</td>\n",
       "      <td>93.749000</td>\n",
       "      <td>-41.800000</td>\n",
       "      <td>4.857000</td>\n",
       "      <td>5191.000000</td>\n",
       "    </tr>\n",
       "    <tr>\n",
       "      <th>75%</th>\n",
       "      <td>47.00000</td>\n",
       "      <td>319.000000</td>\n",
       "      <td>3.000000</td>\n",
       "      <td>999.000000</td>\n",
       "      <td>0.000000</td>\n",
       "      <td>1.400000</td>\n",
       "      <td>93.994000</td>\n",
       "      <td>-36.400000</td>\n",
       "      <td>4.961000</td>\n",
       "      <td>5228.100000</td>\n",
       "    </tr>\n",
       "    <tr>\n",
       "      <th>max</th>\n",
       "      <td>98.00000</td>\n",
       "      <td>4918.000000</td>\n",
       "      <td>56.000000</td>\n",
       "      <td>999.000000</td>\n",
       "      <td>7.000000</td>\n",
       "      <td>1.400000</td>\n",
       "      <td>94.767000</td>\n",
       "      <td>-26.900000</td>\n",
       "      <td>5.045000</td>\n",
       "      <td>5228.100000</td>\n",
       "    </tr>\n",
       "  </tbody>\n",
       "</table>\n",
       "</div>"
      ],
      "text/plain": [
       "               age      duration      campaign         pdays      previous  \\\n",
       "count  41188.00000  41188.000000  41188.000000  41188.000000  41188.000000   \n",
       "mean      40.02406    258.285010      2.567593    962.475454      0.172963   \n",
       "std       10.42125    259.279249      2.770014    186.910907      0.494901   \n",
       "min       17.00000      0.000000      1.000000      0.000000      0.000000   \n",
       "25%       32.00000    102.000000      1.000000    999.000000      0.000000   \n",
       "50%       38.00000    180.000000      2.000000    999.000000      0.000000   \n",
       "75%       47.00000    319.000000      3.000000    999.000000      0.000000   \n",
       "max       98.00000   4918.000000     56.000000    999.000000      7.000000   \n",
       "\n",
       "       emp.var.rate  cons.price.idx  cons.conf.idx     euribor3m   nr.employed  \n",
       "count  41188.000000    41188.000000   41188.000000  41188.000000  41188.000000  \n",
       "mean       0.081886       93.575664     -40.502600      3.621291   5167.035911  \n",
       "std        1.570960        0.578840       4.628198      1.734447     72.251528  \n",
       "min       -3.400000       92.201000     -50.800000      0.634000   4963.600000  \n",
       "25%       -1.800000       93.075000     -42.700000      1.344000   5099.100000  \n",
       "50%        1.100000       93.749000     -41.800000      4.857000   5191.000000  \n",
       "75%        1.400000       93.994000     -36.400000      4.961000   5228.100000  \n",
       "max        1.400000       94.767000     -26.900000      5.045000   5228.100000  "
      ]
     },
     "execution_count": 14,
     "metadata": {},
     "output_type": "execute_result"
    }
   ],
   "source": [
    "# 1.2 Take a simple description for numerical values\n",
    "df.describe()"
   ]
  },
  {
   "cell_type": "code",
   "execution_count": 15,
   "metadata": {},
   "outputs": [
    {
     "data": {
      "text/plain": [
       "\"\\nAge (numerical)\\nJob: Type of Job (categorical)\\nMarital: marital status (categorical)\\nEducation: (categorical)\\nDefault: has credit in default? (categorical)\\nHousing: has housing loan? (categorical)\\nLoan: has personal loan? (categorical)\\ncontact: contact communication type (categorcial)\\nmonth: last contact month of year (categorical)\\nday_of_week: last contact day of the week (categorical)\\nduration: last contact duration, in seconds (numerical)\\n    Important note: this output highly affects the output target (if duration=0, then y='no'). \\n    Yet, the duration is not known before a call is performed. Also, after the end of the call, y is obviously known. \\n    Consider if you should include it or not for a realistic predictive model.\\ncampaign: number of contacts performed during this campaign and for this client (numerical)\\npdays: number of days that passed by after the client was last contacted from a previous campaign (numeric; 999 means client was not previously contacted)\\nprevious: number of contacts performed before this campaign and for this client (numerical)\\npoutcome: outcome of the previous marketing campaign (categorical)\\n    Important note: this attribute has three categories: 'failure', 'success' and 'non-existent'. 86% of the data falls into 'non-existent' category.\\nemp.var.rate: employment variation rate - quarterly indicator (numeric)\\ncons.price.idx: consumer price index- monthly indicator (numeric)\\ncons.conf.idx: consumer confidence index - monthly indicator (numeric)\\neuribor3m: euribor 3 month rate: - daily indicator(numeric)\\nnr.employed: number of employees - quarterly indicator (numeric)\\n\\nTarget variable:\\ny: has the client subscribed a term deposit?\\n\""
      ]
     },
     "execution_count": 15,
     "metadata": {},
     "output_type": "execute_result"
    }
   ],
   "source": [
    "# Hints, Meaning of each attribute:\n",
    "'''\n",
    "Age (numerical)\n",
    "Job: Type of Job (categorical)\n",
    "Marital: marital status (categorical)\n",
    "Education: (categorical)\n",
    "Default: has credit in default? (categorical)\n",
    "Housing: has housing loan? (categorical)\n",
    "Loan: has personal loan? (categorical)\n",
    "contact: contact communication type (categorcial)\n",
    "month: last contact month of year (categorical)\n",
    "day_of_week: last contact day of the week (categorical)\n",
    "duration: last contact duration, in seconds (numerical)\n",
    "    Important note: this output highly affects the output target (if duration=0, then y='no'). \n",
    "    Yet, the duration is not known before a call is performed. Also, after the end of the call, y is obviously known. \n",
    "    Consider if you should include it or not for a realistic predictive model.\n",
    "campaign: number of contacts performed during this campaign and for this client (numerical)\n",
    "pdays: number of days that passed by after the client was last contacted from a previous campaign (numeric; 999 means client was not previously contacted)\n",
    "previous: number of contacts performed before this campaign and for this client (numerical)\n",
    "poutcome: outcome of the previous marketing campaign (categorical)\n",
    "    Important note: this attribute has three categories: 'failure', 'success' and 'non-existent'. 86% of the data falls into 'non-existent' category.\n",
    "emp.var.rate: employment variation rate - quarterly indicator (numeric)\n",
    "cons.price.idx: consumer price index- monthly indicator (numeric)\n",
    "cons.conf.idx: consumer confidence index - monthly indicator (numeric)\n",
    "euribor3m: euribor 3 month rate: - daily indicator(numeric)\n",
    "nr.employed: number of employees - quarterly indicator (numeric)\n",
    "\n",
    "Target variable:\n",
    "y: has the client subscribed a term deposit?\n",
    "'''"
   ]
  },
  {
   "cell_type": "code",
   "execution_count": 16,
   "metadata": {},
   "outputs": [],
   "source": [
    "df_raw = df.copy()"
   ]
  },
  {
   "cell_type": "code",
   "execution_count": 17,
   "metadata": {},
   "outputs": [],
   "source": [
    "# Drop NAs & duplicates\n",
    "df_raw = df_raw.dropna().drop_duplicates()\n",
    "#df = df.reset_index(inplace = False)[['url','is_spam']]"
   ]
  },
  {
   "cell_type": "code",
   "execution_count": 18,
   "metadata": {},
   "outputs": [
    {
     "name": "stdout",
     "output_type": "stream",
     "text": [
      "The Dataset has 41176 \"observations\" with 21 columns\n"
     ]
    }
   ],
   "source": [
    "# Step 2. Make a basic EDA\n",
    "\n",
    "df_raw.shape\n",
    "print(f'The Dataset has {df_raw.shape[0]} \"observations\" with {df_raw.shape[1]} columns')\n",
    "\n",
    "df_len = len(df_raw)"
   ]
  },
  {
   "cell_type": "markdown",
   "metadata": {},
   "source": [
    "Categorical features analysis"
   ]
  },
  {
   "cell_type": "code",
   "execution_count": 19,
   "metadata": {},
   "outputs": [
    {
     "name": "stdout",
     "output_type": "stream",
     "text": [
      "There are 11 \"jobs\" in 41176 observations \n",
      "\n",
      "admin.           10419\n",
      "blue-collar       9253\n",
      "technician        6739\n",
      "services          3967\n",
      "management        2924\n",
      "retired           1718\n",
      "entrepreneur      1456\n",
      "self-employed     1421\n",
      "housemaid         1060\n",
      "unemployed        1014\n",
      "student            875\n",
      "Name: job, dtype: int64\n"
     ]
    },
    {
     "data": {
      "text/plain": [
       "<AxesSubplot:>"
      ]
     },
     "execution_count": 19,
     "metadata": {},
     "output_type": "execute_result"
    },
    {
     "data": {
      "image/png": "[encoded data removed]",
      "text/plain": [
       "<Figure size 1152x432 with 1 Axes>"
      ]
     },
     "metadata": {
      "needs_background": "light"
     },
     "output_type": "display_data"
    }
   ],
   "source": [
    "# 'job' analysis\n",
    "\n",
    "# Replace unknown with mode:\n",
    "condition  = (df_raw['job'] == 'unknown')\n",
    "df_raw.loc[condition, 'job'] = df_raw['job'].mode()\n",
    "\n",
    "nuniques = df_raw['job'].nunique()\n",
    "counts = df_raw['job'].value_counts()\n",
    "print(f'There are {nuniques} \"jobs\" in {len(df_raw)} observations \\n')\n",
    "print(f'{counts}')\n",
    "\n",
    "fig = plt.figure(figsize=(16,6))\n",
    "ax = fig.gca()\n",
    "df_raw['job'].hist(ax=ax)"
   ]
  },
  {
   "cell_type": "code",
   "execution_count": 20,
   "metadata": {},
   "outputs": [
    {
     "name": "stdout",
     "output_type": "stream",
     "text": [
      "There are 3 \"maritals\" in 41176 observations \n",
      "\n",
      "married     24921\n",
      "single      11564\n",
      "divorced     4611\n",
      "Name: marital, dtype: int64\n"
     ]
    },
    {
     "data": {
      "text/plain": [
       "<AxesSubplot:>"
      ]
     },
     "execution_count": 20,
     "metadata": {},
     "output_type": "execute_result"
    },
    {
     "data": {
      "image/png": "[encoded data removed]",
      "text/plain": [
       "<Figure size 432x288 with 1 Axes>"
      ]
     },
     "metadata": {
      "needs_background": "light"
     },
     "output_type": "display_data"
    }
   ],
   "source": [
    "# 'marital' analysis\n",
    "\n",
    "condition  = (df_raw['marital'] == 'unknown')\n",
    "df_raw.loc[condition, 'marital'] = df_raw['marital'].mode()\n",
    "\n",
    "nuniques = df_raw['marital'].nunique()\n",
    "counts = df_raw['marital'].value_counts()\n",
    "print(f'There are {nuniques} \"maritals\" in {len(df_raw)} observations \\n')\n",
    "print(f'{counts}')\n",
    "\n",
    "df_raw['marital'].hist(bins=nuniques)"
   ]
  },
  {
   "cell_type": "code",
   "execution_count": 21,
   "metadata": {},
   "outputs": [
    {
     "name": "stdout",
     "output_type": "stream",
     "text": [
      "There are 5 \"educations\" in 41176 observations \n",
      "\n",
      "middle_school          12512\n",
      "university.degree      12164\n",
      "high.school             9512\n",
      "professional.course     5240\n",
      "illiterate                18\n",
      "Name: education, dtype: int64\n"
     ]
    },
    {
     "data": {
      "text/plain": [
       "<AxesSubplot:>"
      ]
     },
     "execution_count": 21,
     "metadata": {},
     "output_type": "execute_result"
    },
    {
     "data": {
      "image/png": "[encoded data removed]",
      "text/plain": [
       "<Figure size 864x432 with 1 Axes>"
      ]
     },
     "metadata": {
      "needs_background": "light"
     },
     "output_type": "display_data"
    }
   ],
   "source": [
    "# 'education' analysis\n",
    "\n",
    "# Replace unknown with mode:\n",
    "condition  = (df_raw['education'] == 'unknown')\n",
    "df_raw.loc[condition, 'education'] = df_raw['education'].mode()\n",
    "\n",
    "# Insert categories 'basic.9y','basic.6y','basic4y' into 'middle_school':\n",
    "df_raw['education'] = df_raw['education'].replace(['basic.9y', 'basic.6y', 'basic.4y'], 'middle_school')\n",
    "\n",
    "nuniques = df_raw['education'].nunique()\n",
    "counts = df_raw['education'].value_counts()\n",
    "print(f'There are {nuniques} \"educations\" in {len(df_raw)} observations \\n')\n",
    "print(f'{counts}')\n",
    "\n",
    "fig = plt.figure(figsize=(12,6))\n",
    "ax = fig.gca()\n",
    "df_raw['education'].hist(ax=ax, bins=nuniques)"
   ]
  },
  {
   "cell_type": "code",
   "execution_count": 22,
   "metadata": {},
   "outputs": [
    {
     "name": "stdout",
     "output_type": "stream",
     "text": [
      "There are 2 \"defaults\" in 41176 observations \n",
      "\n",
      "no     41173\n",
      "yes        3\n",
      "Name: default, dtype: int64\n"
     ]
    },
    {
     "data": {
      "text/plain": [
       "<AxesSubplot:>"
      ]
     },
     "execution_count": 22,
     "metadata": {},
     "output_type": "execute_result"
    },
    {
     "data": {
      "image/png": "[encoded data removed]",
      "text/plain": [
       "<Figure size 432x288 with 1 Axes>"
      ]
     },
     "metadata": {
      "needs_background": "light"
     },
     "output_type": "display_data"
    }
   ],
   "source": [
    "# 'default' analysis\n",
    "\n",
    "# Replace unknown with mode:\n",
    "condition  = (df_raw['default'] == 'unknown')\n",
    "df_raw.loc[condition, 'default'] = 'no'\n",
    "\n",
    "nuniques = df_raw['default'].nunique()\n",
    "counts = df_raw['default'].value_counts()\n",
    "print(f'There are {nuniques} \"defaults\" in {len(df_raw)} observations \\n')\n",
    "print(f'{counts}')\n",
    "\n",
    "fig = plt.figure(figsize=(6,4))\n",
    "ax = fig.gca()\n",
    "df_raw['default'].hist(ax=ax, bins=nuniques)"
   ]
  },
  {
   "cell_type": "markdown",
   "metadata": {},
   "source": [
    "Pendiente: pasar de categorical(yes, no) to boolean"
   ]
  },
  {
   "cell_type": "code",
   "execution_count": 23,
   "metadata": {},
   "outputs": [
    {
     "name": "stdout",
     "output_type": "stream",
     "text": [
      "There are 2 \"housings\" in 41176 observations \n",
      "\n",
      "yes    21571\n",
      "no     18615\n",
      "Name: housing, dtype: int64\n"
     ]
    },
    {
     "data": {
      "text/plain": [
       "<AxesSubplot:>"
      ]
     },
     "execution_count": 23,
     "metadata": {},
     "output_type": "execute_result"
    },
    {
     "data": {
      "image/png": "[encoded data removed]",
      "text/plain": [
       "<Figure size 432x288 with 1 Axes>"
      ]
     },
     "metadata": {
      "needs_background": "light"
     },
     "output_type": "display_data"
    }
   ],
   "source": [
    "# 'housing' analysis\n",
    "\n",
    "# Replace unknown with mode:\n",
    "condition  = (df_raw['housing'] == 'unknown')\n",
    "df_raw.loc[condition, 'housing'] = df_raw['housing'].mode()\n",
    "\n",
    "nuniques = df_raw['housing'].nunique()\n",
    "counts = df_raw['housing'].value_counts()\n",
    "print(f'There are {nuniques} \"housings\" in {len(df_raw)} observations \\n')\n",
    "print(f'{counts}')\n",
    "\n",
    "df_raw['housing'].hist()"
   ]
  },
  {
   "cell_type": "code",
   "execution_count": 24,
   "metadata": {},
   "outputs": [
    {
     "name": "stdout",
     "output_type": "stream",
     "text": [
      "There are 2 \"loans\" in 41176 observations \n",
      "\n",
      "no     33938\n",
      "yes     6248\n",
      "Name: loan, dtype: int64\n"
     ]
    },
    {
     "data": {
      "text/plain": [
       "<AxesSubplot:>"
      ]
     },
     "execution_count": 24,
     "metadata": {},
     "output_type": "execute_result"
    },
    {
     "data": {
      "image/png": "[encoded data removed]",
      "text/plain": [
       "<Figure size 432x288 with 1 Axes>"
      ]
     },
     "metadata": {
      "needs_background": "light"
     },
     "output_type": "display_data"
    }
   ],
   "source": [
    "# 'loan' analysis\n",
    "\n",
    "# Replace unknown with mode:\n",
    "condition  = (df_raw['loan'] == 'unknown')\n",
    "df_raw.loc[condition, 'loan'] = df_raw['loan'].mode()\n",
    "\n",
    "nuniques = df_raw['loan'].nunique()\n",
    "counts = df_raw['loan'].value_counts()\n",
    "print(f'There are {nuniques} \"loans\" in {len(df_raw)} observations \\n')\n",
    "print(f'{counts}')\n",
    "\n",
    "df_raw['loan'].hist()"
   ]
  },
  {
   "cell_type": "code",
   "execution_count": 25,
   "metadata": {},
   "outputs": [
    {
     "name": "stdout",
     "output_type": "stream",
     "text": [
      "There are 2 \"contacts\" in 41176 observations \n",
      "\n",
      "cellular     26135\n",
      "telephone    15041\n",
      "Name: contact, dtype: int64\n"
     ]
    },
    {
     "data": {
      "text/plain": [
       "<AxesSubplot:>"
      ]
     },
     "execution_count": 25,
     "metadata": {},
     "output_type": "execute_result"
    },
    {
     "data": {
      "image/png": "[encoded data removed]",
      "text/plain": [
       "<Figure size 432x288 with 1 Axes>"
      ]
     },
     "metadata": {
      "needs_background": "light"
     },
     "output_type": "display_data"
    }
   ],
   "source": [
    "# 'contact' analysis\n",
    "\n",
    "# Replace unknown with mode:\n",
    "condition  = (df_raw['contact'] == 'unknown')\n",
    "df_raw.loc[condition, 'contact'] = df_raw['contact'].mode()\n",
    "\n",
    "nuniques = df_raw['contact'].nunique()\n",
    "counts = df_raw['contact'].value_counts()\n",
    "print(f'There are {nuniques} \"contacts\" in {len(df_raw)} observations \\n')\n",
    "print(f'{counts}')\n",
    "\n",
    "df_raw['contact'].hist()"
   ]
  },
  {
   "cell_type": "code",
   "execution_count": 26,
   "metadata": {},
   "outputs": [
    {
     "name": "stdout",
     "output_type": "stream",
     "text": [
      "There are 10 \"months\" in 41176 observations \n",
      "\n",
      "may    13767\n",
      "jul     7169\n",
      "aug     6176\n",
      "jun     5318\n",
      "nov     4100\n",
      "apr     2631\n",
      "oct      717\n",
      "sep      570\n",
      "mar      546\n",
      "dec      182\n",
      "Name: month, dtype: int64\n"
     ]
    },
    {
     "data": {
      "text/plain": [
       "<AxesSubplot:>"
      ]
     },
     "execution_count": 26,
     "metadata": {},
     "output_type": "execute_result"
    },
    {
     "data": {
      "image/png": "[encoded data removed]",
      "text/plain": [
       "<Figure size 432x288 with 1 Axes>"
      ]
     },
     "metadata": {
      "needs_background": "light"
     },
     "output_type": "display_data"
    }
   ],
   "source": [
    "# 'month' analysis\n",
    "\n",
    "nuniques = df_raw['month'].nunique()\n",
    "counts = df_raw['month'].value_counts()\n",
    "print(f'There are {nuniques} \"months\" in {len(df_raw)} observations \\n')\n",
    "print(f'{counts}')\n",
    "\n",
    "df_raw['month'].hist()"
   ]
  },
  {
   "cell_type": "code",
   "execution_count": 27,
   "metadata": {},
   "outputs": [
    {
     "name": "stdout",
     "output_type": "stream",
     "text": [
      "There are 5 \"day_of_week\" in 41176 observations \n",
      "\n",
      "thu    8618\n",
      "mon    8512\n",
      "wed    8134\n",
      "tue    8086\n",
      "fri    7826\n",
      "Name: day_of_week, dtype: int64\n"
     ]
    },
    {
     "data": {
      "text/plain": [
       "<AxesSubplot:>"
      ]
     },
     "execution_count": 27,
     "metadata": {},
     "output_type": "execute_result"
    },
    {
     "data": {
      "image/png": "[encoded data removed]",
      "text/plain": [
       "<Figure size 432x288 with 1 Axes>"
      ]
     },
     "metadata": {
      "needs_background": "light"
     },
     "output_type": "display_data"
    }
   ],
   "source": [
    "# 'day_of_week' analysis\n",
    "\n",
    "nuniques = df_raw['day_of_week'].nunique()\n",
    "counts = df_raw['day_of_week'].value_counts()\n",
    "print(f'There are {nuniques} \"day_of_week\" in {len(df_raw)} observations \\n')\n",
    "print(f'{counts}')\n",
    "\n",
    "df_raw['day_of_week'].hist(bins=5)"
   ]
  },
  {
   "cell_type": "code",
   "execution_count": 28,
   "metadata": {},
   "outputs": [
    {
     "name": "stdout",
     "output_type": "stream",
     "text": [
      "There are 3 \"poutcomes\" in 41176 observations \n",
      "\n",
      "nonexistent    35551\n",
      "failure         4252\n",
      "success         1373\n",
      "Name: poutcome, dtype: int64\n"
     ]
    },
    {
     "data": {
      "text/plain": [
       "<AxesSubplot:>"
      ]
     },
     "execution_count": 28,
     "metadata": {},
     "output_type": "execute_result"
    },
    {
     "data": {
      "image/png": "[encoded data removed]",
      "text/plain": [
       "<Figure size 432x288 with 1 Axes>"
      ]
     },
     "metadata": {
      "needs_background": "light"
     },
     "output_type": "display_data"
    }
   ],
   "source": [
    "# 'poutcome' analysis\n",
    "\n",
    "nuniques = df_raw['poutcome'].nunique()\n",
    "counts = df_raw['poutcome'].value_counts()\n",
    "print(f'There are {nuniques} \"poutcomes\" in {len(df_raw)} observations \\n')\n",
    "print(f'{counts}')\n",
    "\n",
    "df_raw['poutcome'].hist()"
   ]
  },
  {
   "cell_type": "markdown",
   "metadata": {},
   "source": [
    "Numerical features analysis"
   ]
  },
  {
   "cell_type": "code",
   "execution_count": 29,
   "metadata": {},
   "outputs": [],
   "source": [
    "df_interim = df_raw.copy()"
   ]
  },
  {
   "cell_type": "code",
   "execution_count": 30,
   "metadata": {},
   "outputs": [],
   "source": [
    "df_raw = df_interim.copy()"
   ]
  },
  {
   "cell_type": "code",
   "execution_count": 31,
   "metadata": {},
   "outputs": [
    {
     "name": "stdout",
     "output_type": "stream",
     "text": [
      "There are 78 \"ages\" in 41176 observations \n",
      "\n",
      "31    1947\n",
      "32    1845\n",
      "33    1833\n",
      "36    1779\n",
      "35    1758\n",
      "      ... \n",
      "89       2\n",
      "91       2\n",
      "94       1\n",
      "87       1\n",
      "95       1\n",
      "Name: age, Length: 78, dtype: int64\n"
     ]
    },
    {
     "data": {
      "image/png": "[encoded data removed]",
      "text/plain": [
       "<Figure size 288x288 with 1 Axes>"
      ]
     },
     "metadata": {
      "needs_background": "light"
     },
     "output_type": "display_data"
    },
    {
     "data": {
      "image/png": "[encoded data removed]",
      "text/plain": [
       "<Figure size 360x360 with 1 Axes>"
      ]
     },
     "metadata": {
      "needs_background": "light"
     },
     "output_type": "display_data"
    },
    {
     "data": {
      "image/png": "[encoded data removed]",
      "text/plain": [
       "<Figure size 432x288 with 1 Axes>"
      ]
     },
     "metadata": {},
     "output_type": "display_data"
    }
   ],
   "source": [
    "# 'age' analysis\n",
    "\n",
    "nuniques = df_raw['age'].nunique()\n",
    "counts = df_raw['age'].value_counts()\n",
    "print(f'There are {nuniques} \"ages\" in {len(df_raw)} observations \\n')\n",
    "print(f'{counts}')\n",
    "\n",
    "# remove 'age outliers\n",
    "df_raw = df_raw.drop(df_raw[df_raw.age > 69].index)\n",
    "\n",
    "df_raw.hist('age', grid=True, figsize=(4,4), bins=10)\n",
    "plt.show()\n",
    "\n",
    "sns.catplot(y='age', kind='box', data=df_raw)\n",
    "plt.show()\n",
    "\n",
    "# Convert age into categorical data by creating age-groups of ten years\n",
    "df_raw['age'] = pd.cut(x=df_raw['age'], bins=[10, 20, 30, 40, 50, 60], \n",
    "                       labels=['10-20', '21-30', '31-40', '41-50', '51-60'])\n",
    "\n",
    "# ages distribution by decade\n",
    "sns.set(style='darkgrid')\n",
    "sns.countplot(x=df_raw['age'], palette='pastel')\n",
    "plt.title('Distribution of ages by decades')\n",
    "plt.show()"
   ]
  },
  {
   "cell_type": "code",
   "execution_count": 32,
   "metadata": {},
   "outputs": [
    {
     "name": "stdout",
     "output_type": "stream",
     "text": [
      "There are 995 \"durations\" in 39757 observations \n",
      "\n",
      "85     168\n",
      "90     167\n",
      "136    167\n",
      "73     166\n",
      "124    162\n",
      "      ... \n",
      "907      1\n",
      "859      1\n",
      "879      1\n",
      "987      1\n",
      "928      1\n",
      "Name: duration, Length: 995, dtype: int64\n"
     ]
    },
    {
     "data": {
      "image/png": "[encoded data removed]",
      "text/plain": [
       "<Figure size 288x288 with 1 Axes>"
      ]
     },
     "metadata": {},
     "output_type": "display_data"
    },
    {
     "data": {
      "image/png": "[encoded data removed]",
      "text/plain": [
       "<Figure size 360x360 with 1 Axes>"
      ]
     },
     "metadata": {},
     "output_type": "display_data"
    }
   ],
   "source": [
    "# 'duration' analysis\n",
    "\n",
    "# remove rows which duration = 0\n",
    "df_raw = df_raw.drop(df_raw[df_raw.duration == 0].index)\n",
    "\n",
    "# remove duration outliers\n",
    "df_raw = df_raw.drop(df_raw[df_raw.duration > 1000].index)\n",
    "\n",
    "nuniques = df_raw['duration'].nunique()\n",
    "counts = df_raw['duration'].value_counts()\n",
    "print(f'There are {nuniques} \"durations\" in {len(df_raw)} observations \\n')\n",
    "print(f'{counts}')\n",
    "\n",
    "df_raw.hist('duration', grid=True, figsize=(4,4), bins=10)\n",
    "plt.show()\n",
    "\n",
    "sns.catplot(y='duration', kind='box', data=df_raw)\n",
    "plt.show()"
   ]
  },
  {
   "cell_type": "code",
   "execution_count": 33,
   "metadata": {},
   "outputs": [
    {
     "name": "stdout",
     "output_type": "stream",
     "text": [
      "There are 42 \"campaigns\" in 41176 observations \n",
      "\n",
      "1     17059\n",
      "2     10159\n",
      "3      5135\n",
      "4      2555\n",
      "5      1562\n",
      "6       946\n",
      "7       610\n",
      "8       390\n",
      "9       273\n",
      "10      217\n",
      "11      172\n",
      "12      122\n",
      "13       90\n",
      "14       68\n",
      "17       55\n",
      "16       50\n",
      "15       50\n",
      "18       33\n",
      "20       30\n",
      "19       25\n",
      "21       24\n",
      "22       17\n",
      "23       16\n",
      "24       15\n",
      "27       11\n",
      "29       10\n",
      "28        8\n",
      "25        8\n",
      "31        7\n",
      "26        7\n",
      "30        7\n",
      "35        5\n",
      "32        4\n",
      "33        4\n",
      "34        3\n",
      "42        2\n",
      "40        2\n",
      "43        2\n",
      "56        1\n",
      "39        1\n",
      "41        1\n",
      "37        1\n",
      "Name: campaign, dtype: int64\n"
     ]
    },
    {
     "data": {
      "text/plain": [
       "<AxesSubplot:>"
      ]
     },
     "execution_count": 33,
     "metadata": {},
     "output_type": "execute_result"
    },
    {
     "data": {
      "image/png": "[encoded data removed]",
      "text/plain": [
       "<Figure size 432x288 with 1 Axes>"
      ]
     },
     "metadata": {},
     "output_type": "display_data"
    }
   ],
   "source": [
    "# 'campaign' analysis\n",
    "\n",
    "nuniques = df_raw['campaign'].nunique()\n",
    "counts = df_raw['campaign'].value_counts()\n",
    "print(f'There are {nuniques} \"campaigns\" in {df_len} observations \\n')\n",
    "print(f'{counts}')\n",
    "\n",
    "# 'campaign' to categorical\n",
    "df_raw['campaign'] = pd.Categorical(df_raw.campaign)\n",
    "df_raw['campaign'].dtypes\n",
    "\n",
    "df_raw['campaign'].hist(bins=nuniques)\n"
   ]
  },
  {
   "cell_type": "code",
   "execution_count": 34,
   "metadata": {},
   "outputs": [
    {
     "name": "stdout",
     "output_type": "stream",
     "text": [
      "There are 27 \"pdays\" in 41176 observations \n",
      "\n",
      "999    38373\n",
      "3        393\n",
      "6        372\n",
      "4        108\n",
      "9         59\n",
      "2         58\n",
      "7         55\n",
      "12        54\n",
      "10        49\n",
      "5         42\n",
      "13        33\n",
      "11        27\n",
      "1         26\n",
      "15        22\n",
      "14        18\n",
      "8         16\n",
      "0         15\n",
      "16        11\n",
      "17         8\n",
      "18         7\n",
      "22         3\n",
      "21         2\n",
      "19         2\n",
      "25         1\n",
      "26         1\n",
      "27         1\n",
      "20         1\n",
      "Name: pdays, dtype: int64\n"
     ]
    },
    {
     "data": {
      "image/png": "[encoded data removed]",
      "text/plain": [
       "<Figure size 288x288 with 1 Axes>"
      ]
     },
     "metadata": {},
     "output_type": "display_data"
    }
   ],
   "source": [
    "# 'pdays' analysis\n",
    "\n",
    "nuniques = df_raw['pdays'].nunique()\n",
    "counts = df_raw['pdays'].value_counts()\n",
    "print(f'There are {nuniques} \"pdays\" in {df_len} observations \\n')\n",
    "print(f'{counts}')\n",
    "\n",
    "df_raw.hist('pdays', grid=True, figsize=(4,4), bins=nuniques)\n",
    "plt.show()\n"
   ]
  },
  {
   "cell_type": "code",
   "execution_count": 35,
   "metadata": {},
   "outputs": [
    {
     "name": "stdout",
     "output_type": "stream",
     "text": [
      "There are 8 \"previous\" in 39757 observations \n",
      "\n",
      "0    34436\n",
      "1     4350\n",
      "2      689\n",
      "3      198\n",
      "4       61\n",
      "5       18\n",
      "6        4\n",
      "7        1\n",
      "Name: previous, dtype: int64\n"
     ]
    },
    {
     "data": {
      "image/png": "[encoded data removed]",
      "text/plain": [
       "<Figure size 288x288 with 1 Axes>"
      ]
     },
     "metadata": {},
     "output_type": "display_data"
    }
   ],
   "source": [
    "# 'previous' analysis\n",
    "\n",
    "nuniques = df_raw['previous'].nunique()\n",
    "counts = df_raw['previous'].value_counts()\n",
    "print(f'There are {nuniques} \"previous\" in {len(df_raw)} observations \\n')\n",
    "print(f'{counts}')\n",
    "\n",
    "df_raw.hist('previous', grid=True, figsize=(4,4), bins=nuniques)\n",
    "plt.show()"
   ]
  },
  {
   "cell_type": "code",
   "execution_count": 36,
   "metadata": {},
   "outputs": [
    {
     "name": "stdout",
     "output_type": "stream",
     "text": [
      "There are 10 \"emp.var.rate\" in 39757 observations \n",
      "\n",
      " 1.4    15819\n",
      "-1.8     8831\n",
      " 1.1     7599\n",
      "-0.1     3594\n",
      "-2.9     1566\n",
      "-3.4      924\n",
      "-1.7      693\n",
      "-1.1      578\n",
      "-3.0      143\n",
      "-0.2       10\n",
      "Name: emp.var.rate, dtype: int64\n"
     ]
    },
    {
     "data": {
      "image/png": "[encoded data removed]",
      "text/plain": [
       "<Figure size 288x288 with 1 Axes>"
      ]
     },
     "metadata": {},
     "output_type": "display_data"
    },
    {
     "data": {
      "image/png": "[encoded data removed]",
      "text/plain": [
       "<Figure size 360x360 with 1 Axes>"
      ]
     },
     "metadata": {},
     "output_type": "display_data"
    }
   ],
   "source": [
    "# 'emp.var.rate' analysis\n",
    "\n",
    "nuniques = df_raw['emp.var.rate'].nunique()\n",
    "counts = df_raw['emp.var.rate'].value_counts()\n",
    "print(f'There are {nuniques} \"emp.var.rate\" in {len(df_raw)} observations \\n')\n",
    "print(f'{counts}')\n",
    "\n",
    "df_raw.hist('emp.var.rate', grid=True, figsize=(4,4), bins=nuniques)\n",
    "plt.show()\n",
    "\n",
    "sns.catplot(y='emp.var.rate', kind='box', data=df_raw)\n",
    "plt.show()"
   ]
  },
  {
   "cell_type": "code",
   "execution_count": 37,
   "metadata": {},
   "outputs": [
    {
     "name": "stdout",
     "output_type": "stream",
     "text": [
      "There are 26 \"cons.price.idx\" in 39757 observations \n",
      "\n",
      "93.994    7599\n",
      "93.918    6477\n",
      "92.893    5661\n",
      "93.444    5072\n",
      "94.465    4270\n",
      "93.200    3531\n",
      "93.075    2346\n",
      "92.963     699\n",
      "92.201     694\n",
      "92.431     378\n",
      "92.649     314\n",
      "94.215     275\n",
      "94.199     269\n",
      "92.843     251\n",
      "93.369     248\n",
      "92.379     232\n",
      "94.055     213\n",
      "94.027     205\n",
      "94.601     186\n",
      "93.876     185\n",
      "92.469     173\n",
      "92.713     143\n",
      "93.749     140\n",
      "94.767     123\n",
      "93.798      63\n",
      "92.756      10\n",
      "Name: cons.price.idx, dtype: int64\n"
     ]
    },
    {
     "data": {
      "image/png": "[encoded data removed]",
      "text/plain": [
       "<Figure size 288x288 with 1 Axes>"
      ]
     },
     "metadata": {},
     "output_type": "display_data"
    },
    {
     "data": {
      "image/png": "[encoded data removed]",
      "text/plain": [
       "<Figure size 360x360 with 1 Axes>"
      ]
     },
     "metadata": {},
     "output_type": "display_data"
    }
   ],
   "source": [
    "# 'cons.price.idx' analysis\n",
    "\n",
    "nuniques = df_raw['cons.price.idx'].nunique()\n",
    "counts = df_raw['cons.price.idx'].value_counts()\n",
    "print(f'There are {nuniques} \"cons.price.idx\" in {len(df_raw)} observations \\n')\n",
    "print(f'{counts}')\n",
    "\n",
    "df_raw.hist('cons.price.idx', grid=True, figsize=(4,4), bins=nuniques)\n",
    "plt.show()\n",
    "\n",
    "sns.catplot(y='cons.price.idx', kind='box', data=df_raw)\n",
    "plt.show()"
   ]
  },
  {
   "cell_type": "code",
   "execution_count": 38,
   "metadata": {},
   "outputs": [
    {
     "name": "stdout",
     "output_type": "stream",
     "text": [
      "There are 315 \"euribor3m\" in 39757 observations \n",
      "\n",
      "4.857    2824\n",
      "4.962    2536\n",
      "4.963    2421\n",
      "4.961    1850\n",
      "4.856    1177\n",
      "         ... \n",
      "3.743       1\n",
      "3.282       1\n",
      "3.669       1\n",
      "3.488       1\n",
      "0.956       1\n",
      "Name: euribor3m, Length: 315, dtype: int64\n"
     ]
    },
    {
     "data": {
      "image/png": "[encoded data removed]",
      "text/plain": [
       "<Figure size 288x288 with 1 Axes>"
      ]
     },
     "metadata": {},
     "output_type": "display_data"
    },
    {
     "data": {
      "image/png": "[encoded data removed]",
      "text/plain": [
       "<Figure size 360x360 with 1 Axes>"
      ]
     },
     "metadata": {},
     "output_type": "display_data"
    }
   ],
   "source": [
    "# 'euribor3m' analysis\n",
    "\n",
    "nuniques = df_raw['euribor3m'].nunique()\n",
    "counts = df_raw['euribor3m'].value_counts()\n",
    "print(f'There are {nuniques} \"euribor3m\" in {len(df_raw)} observations \\n')\n",
    "print(f'{counts}')\n",
    "\n",
    "df_raw.hist('euribor3m', grid=True, figsize=(4,4), bins=30)\n",
    "plt.show()\n",
    "\n",
    "sns.catplot(y='euribor3m', kind='box', data=df_raw)\n",
    "plt.show()"
   ]
  },
  {
   "cell_type": "code",
   "execution_count": 39,
   "metadata": {},
   "outputs": [
    {
     "name": "stdout",
     "output_type": "stream",
     "text": [
      "There are 11 \"nr.employed\" in 39757 observations \n",
      "\n",
      "5228.1    15819\n",
      "5099.1     8258\n",
      "5191.0     7599\n",
      "5195.8     3594\n",
      "5076.2     1566\n",
      "5017.5      924\n",
      "4991.6      693\n",
      "4963.6      578\n",
      "5008.7      573\n",
      "5023.5      143\n",
      "5176.3       10\n",
      "Name: nr.employed, dtype: int64\n"
     ]
    },
    {
     "data": {
      "image/png": "[encoded data removed]",
      "text/plain": [
       "<Figure size 288x288 with 1 Axes>"
      ]
     },
     "metadata": {},
     "output_type": "display_data"
    },
    {
     "data": {
      "image/png": "[encoded data removed]",
      "text/plain": [
       "<Figure size 360x360 with 1 Axes>"
      ]
     },
     "metadata": {},
     "output_type": "display_data"
    }
   ],
   "source": [
    "# 'nr.employed' analysis\n",
    "\n",
    "nuniques = df_raw['nr.employed'].nunique()\n",
    "counts = df_raw['nr.employed'].value_counts()\n",
    "print(f'There are {nuniques} \"nr.employed\" in {len(df_raw)} observations \\n')\n",
    "print(f'{counts}')\n",
    "\n",
    "df_raw.hist('nr.employed', grid=True, figsize=(4,4), bins=nuniques)\n",
    "plt.show()\n",
    "\n",
    "sns.catplot(y='nr.employed', kind='box', data=df_raw)\n",
    "plt.show()"
   ]
  },
  {
   "cell_type": "markdown",
   "metadata": {},
   "source": [
    "Correlations analysis"
   ]
  },
  {
   "cell_type": "code",
   "execution_count": 40,
   "metadata": {},
   "outputs": [],
   "source": [
    "# drop columns due to high correlations\n",
    "correlation_deletes = ['cons.price.idx', 'nr.employed', 'euribor3m']\n",
    "\n",
    "df_raw = df_raw.drop(columns=correlation_deletes)"
   ]
  },
  {
   "cell_type": "code",
   "execution_count": 41,
   "metadata": {},
   "outputs": [
    {
     "data": {
      "image/png": "[encoded data removed]",
      "text/plain": [
       "<Figure size 504x504 with 2 Axes>"
      ]
     },
     "metadata": {},
     "output_type": "display_data"
    }
   ],
   "source": [
    "# Correlations analysis\n",
    "\n",
    "df_corr = df_raw.corr().transpose()\n",
    "\n",
    "background_color = \"#97CADB\"\n",
    "fig = plt.figure(figsize=(7,7))\n",
    "gs = fig.add_gridspec(1,1)\n",
    "gs.update(wspace=0.3, hspace=0.15)\n",
    "ax0 = fig.add_subplot(gs[0,0])\n",
    "fig.patch.set_facecolor(background_color) \n",
    "ax0.set_facecolor(background_color) \n",
    "\n",
    "mask = np.triu(np.ones_like(df_corr))\n",
    "ax0.text(2,-0.1, \"Correlations Matrix\", fontsize=22, fontweight='bold', color=\"#000000\")\n",
    "sns.heatmap(df_corr, mask=mask, fmt=\".1f\", annot=True)\n",
    "plt.show()"
   ]
  },
  {
   "cell_type": "code",
   "execution_count": 42,
   "metadata": {},
   "outputs": [
    {
     "name": "stdout",
     "output_type": "stream",
     "text": [
      "There is high correlation between:\n",
      " previous - pdays : -0,6\n",
      " cons.price.idx - emp.var.rate : 0,8\n",
      " euribor3m - cons.price.idx: 0,7\n",
      " nr.employed - emp.var.rate: 0,9\n",
      " nr.employed - euribor3m: 0,9 \n"
     ]
    }
   ],
   "source": [
    "print(f'There is high correlation between:\\n previous - pdays : -0,6\\n cons.price.idx - emp.var.rate : 0,8\\n euribor3m - cons.price.idx: 0,7\\n nr.employed - emp.var.rate: 0,9\\n nr.employed - euribor3m: 0,9 ')"
   ]
  },
  {
   "cell_type": "code",
   "execution_count": 43,
   "metadata": {},
   "outputs": [
    {
     "data": {
      "text/html": [
       "<div>\n",
       "<style scoped>\n",
       "    .dataframe tbody tr th:only-of-type {\n",
       "        vertical-align: middle;\n",
       "    }\n",
       "\n",
       "    .dataframe tbody tr th {\n",
       "        vertical-align: top;\n",
       "    }\n",
       "\n",
       "    .dataframe thead th {\n",
       "        text-align: right;\n",
       "    }\n",
       "</style>\n",
       "<table border=\"1\" class=\"dataframe\">\n",
       "  <thead>\n",
       "    <tr style=\"text-align: right;\">\n",
       "      <th></th>\n",
       "      <th>age</th>\n",
       "      <th>job</th>\n",
       "      <th>marital</th>\n",
       "      <th>education</th>\n",
       "      <th>default</th>\n",
       "      <th>housing</th>\n",
       "      <th>loan</th>\n",
       "      <th>contact</th>\n",
       "      <th>month</th>\n",
       "      <th>day_of_week</th>\n",
       "      <th>duration</th>\n",
       "      <th>campaign</th>\n",
       "      <th>pdays</th>\n",
       "      <th>previous</th>\n",
       "      <th>poutcome</th>\n",
       "      <th>emp.var.rate</th>\n",
       "      <th>cons.conf.idx</th>\n",
       "      <th>y</th>\n",
       "    </tr>\n",
       "  </thead>\n",
       "  <tbody>\n",
       "    <tr>\n",
       "      <th>0</th>\n",
       "      <td>51-60</td>\n",
       "      <td>housemaid</td>\n",
       "      <td>married</td>\n",
       "      <td>middle_school</td>\n",
       "      <td>no</td>\n",
       "      <td>no</td>\n",
       "      <td>no</td>\n",
       "      <td>telephone</td>\n",
       "      <td>may</td>\n",
       "      <td>mon</td>\n",
       "      <td>261</td>\n",
       "      <td>1</td>\n",
       "      <td>999</td>\n",
       "      <td>0</td>\n",
       "      <td>nonexistent</td>\n",
       "      <td>1.1</td>\n",
       "      <td>-36.4</td>\n",
       "      <td>no</td>\n",
       "    </tr>\n",
       "    <tr>\n",
       "      <th>1</th>\n",
       "      <td>51-60</td>\n",
       "      <td>services</td>\n",
       "      <td>married</td>\n",
       "      <td>high.school</td>\n",
       "      <td>no</td>\n",
       "      <td>no</td>\n",
       "      <td>no</td>\n",
       "      <td>telephone</td>\n",
       "      <td>may</td>\n",
       "      <td>mon</td>\n",
       "      <td>149</td>\n",
       "      <td>1</td>\n",
       "      <td>999</td>\n",
       "      <td>0</td>\n",
       "      <td>nonexistent</td>\n",
       "      <td>1.1</td>\n",
       "      <td>-36.4</td>\n",
       "      <td>no</td>\n",
       "    </tr>\n",
       "    <tr>\n",
       "      <th>2</th>\n",
       "      <td>31-40</td>\n",
       "      <td>services</td>\n",
       "      <td>married</td>\n",
       "      <td>high.school</td>\n",
       "      <td>no</td>\n",
       "      <td>yes</td>\n",
       "      <td>no</td>\n",
       "      <td>telephone</td>\n",
       "      <td>may</td>\n",
       "      <td>mon</td>\n",
       "      <td>226</td>\n",
       "      <td>1</td>\n",
       "      <td>999</td>\n",
       "      <td>0</td>\n",
       "      <td>nonexistent</td>\n",
       "      <td>1.1</td>\n",
       "      <td>-36.4</td>\n",
       "      <td>no</td>\n",
       "    </tr>\n",
       "    <tr>\n",
       "      <th>3</th>\n",
       "      <td>31-40</td>\n",
       "      <td>admin.</td>\n",
       "      <td>married</td>\n",
       "      <td>middle_school</td>\n",
       "      <td>no</td>\n",
       "      <td>no</td>\n",
       "      <td>no</td>\n",
       "      <td>telephone</td>\n",
       "      <td>may</td>\n",
       "      <td>mon</td>\n",
       "      <td>151</td>\n",
       "      <td>1</td>\n",
       "      <td>999</td>\n",
       "      <td>0</td>\n",
       "      <td>nonexistent</td>\n",
       "      <td>1.1</td>\n",
       "      <td>-36.4</td>\n",
       "      <td>no</td>\n",
       "    </tr>\n",
       "    <tr>\n",
       "      <th>4</th>\n",
       "      <td>51-60</td>\n",
       "      <td>services</td>\n",
       "      <td>married</td>\n",
       "      <td>high.school</td>\n",
       "      <td>no</td>\n",
       "      <td>no</td>\n",
       "      <td>yes</td>\n",
       "      <td>telephone</td>\n",
       "      <td>may</td>\n",
       "      <td>mon</td>\n",
       "      <td>307</td>\n",
       "      <td>1</td>\n",
       "      <td>999</td>\n",
       "      <td>0</td>\n",
       "      <td>nonexistent</td>\n",
       "      <td>1.1</td>\n",
       "      <td>-36.4</td>\n",
       "      <td>no</td>\n",
       "    </tr>\n",
       "    <tr>\n",
       "      <th>5</th>\n",
       "      <td>41-50</td>\n",
       "      <td>services</td>\n",
       "      <td>married</td>\n",
       "      <td>middle_school</td>\n",
       "      <td>no</td>\n",
       "      <td>no</td>\n",
       "      <td>no</td>\n",
       "      <td>telephone</td>\n",
       "      <td>may</td>\n",
       "      <td>mon</td>\n",
       "      <td>198</td>\n",
       "      <td>1</td>\n",
       "      <td>999</td>\n",
       "      <td>0</td>\n",
       "      <td>nonexistent</td>\n",
       "      <td>1.1</td>\n",
       "      <td>-36.4</td>\n",
       "      <td>no</td>\n",
       "    </tr>\n",
       "    <tr>\n",
       "      <th>6</th>\n",
       "      <td>51-60</td>\n",
       "      <td>admin.</td>\n",
       "      <td>married</td>\n",
       "      <td>professional.course</td>\n",
       "      <td>no</td>\n",
       "      <td>no</td>\n",
       "      <td>no</td>\n",
       "      <td>telephone</td>\n",
       "      <td>may</td>\n",
       "      <td>mon</td>\n",
       "      <td>139</td>\n",
       "      <td>1</td>\n",
       "      <td>999</td>\n",
       "      <td>0</td>\n",
       "      <td>nonexistent</td>\n",
       "      <td>1.1</td>\n",
       "      <td>-36.4</td>\n",
       "      <td>no</td>\n",
       "    </tr>\n",
       "  </tbody>\n",
       "</table>\n",
       "</div>"
      ],
      "text/plain": [
       "     age        job  marital            education default housing loan  \\\n",
       "0  51-60  housemaid  married        middle_school      no      no   no   \n",
       "1  51-60   services  married          high.school      no      no   no   \n",
       "2  31-40   services  married          high.school      no     yes   no   \n",
       "3  31-40     admin.  married        middle_school      no      no   no   \n",
       "4  51-60   services  married          high.school      no      no  yes   \n",
       "5  41-50   services  married        middle_school      no      no   no   \n",
       "6  51-60     admin.  married  professional.course      no      no   no   \n",
       "\n",
       "     contact month day_of_week  duration campaign  pdays  previous  \\\n",
       "0  telephone   may         mon       261        1    999         0   \n",
       "1  telephone   may         mon       149        1    999         0   \n",
       "2  telephone   may         mon       226        1    999         0   \n",
       "3  telephone   may         mon       151        1    999         0   \n",
       "4  telephone   may         mon       307        1    999         0   \n",
       "5  telephone   may         mon       198        1    999         0   \n",
       "6  telephone   may         mon       139        1    999         0   \n",
       "\n",
       "      poutcome  emp.var.rate  cons.conf.idx   y  \n",
       "0  nonexistent           1.1          -36.4  no  \n",
       "1  nonexistent           1.1          -36.4  no  \n",
       "2  nonexistent           1.1          -36.4  no  \n",
       "3  nonexistent           1.1          -36.4  no  \n",
       "4  nonexistent           1.1          -36.4  no  \n",
       "5  nonexistent           1.1          -36.4  no  \n",
       "6  nonexistent           1.1          -36.4  no  "
      ]
     },
     "execution_count": 43,
     "metadata": {},
     "output_type": "execute_result"
    }
   ],
   "source": [
    "df_raw.head(7)"
   ]
  },
  {
   "cell_type": "code",
   "execution_count": 44,
   "metadata": {},
   "outputs": [],
   "source": [
    "df_interim2 = df_raw.copy()"
   ]
  },
  {
   "cell_type": "markdown",
   "metadata": {},
   "source": [
    "Target data analysis"
   ]
  },
  {
   "cell_type": "code",
   "execution_count": 45,
   "metadata": {},
   "outputs": [
    {
     "name": "stdout",
     "output_type": "stream",
     "text": [
      "There are 2 \"ys\" in 39757 observations \n",
      "\n",
      "no     35899\n",
      "yes     3858\n",
      "Name: y, dtype: int64\n"
     ]
    },
    {
     "data": {
      "text/plain": [
       "<AxesSubplot:>"
      ]
     },
     "execution_count": 45,
     "metadata": {},
     "output_type": "execute_result"
    },
    {
     "data": {
      "image/png": "[encoded data removed]",
      "text/plain": [
       "<Figure size 432x288 with 1 Axes>"
      ]
     },
     "metadata": {},
     "output_type": "display_data"
    }
   ],
   "source": [
    "# target data 'y' analysis\n",
    "\n",
    "# Check if data is balanced:\n",
    "nuniques = df_raw['y'].nunique()\n",
    "counts = df_raw['y'].value_counts()\n",
    "print(f'There are {nuniques} \"ys\" in {len(df_raw)} observations \\n')\n",
    "print(f'{counts}')\n",
    "\n",
    "fig = plt.figure(figsize=(6,4))\n",
    "ax = fig.gca()\n",
    "df_raw['y'].hist(ax=ax, bins=nuniques)"
   ]
  },
  {
   "cell_type": "code",
   "execution_count": 46,
   "metadata": {},
   "outputs": [],
   "source": [
    "# Step 3. Create and evaluate model - Define your approach and goals"
   ]
  },
  {
   "cell_type": "code",
   "execution_count": 47,
   "metadata": {},
   "outputs": [],
   "source": [
    "# 3.1 Perform model fit - A"
   ]
  },
  {
   "cell_type": "code",
   "execution_count": 48,
   "metadata": {},
   "outputs": [],
   "source": [
    "# 3.3 Calculate metrics on model A"
   ]
  },
  {
   "cell_type": "code",
   "execution_count": 49,
   "metadata": {},
   "outputs": [],
   "source": [
    "# Step 4. Write up your conclusions"
   ]
  }
 ],
 "metadata": {
  "kernelspec": {
   "display_name": "Python 3.10.4 64-bit",
   "language": "python",
   "name": "python3"
  },
  "language_info": {
   "codemirror_mode": {
    "name": "ipython",
    "version": 3
   },
   "file_extension": ".py",
   "mimetype": "text/x-python",
   "name": "python",
   "nbconvert_exporter": "python",
   "pygments_lexer": "ipython3",
   "version": "3.10.4"
  },
  "orig_nbformat": 4,
  "vscode": {
   "interpreter": {
    "hash": "916dbcbb3f70747c44a77c7bcd40155683ae19c65e1c03b4aa3499c5328201f1"
   }
  }
 },
 "nbformat": 4,
 "nbformat_minor": 2
}
